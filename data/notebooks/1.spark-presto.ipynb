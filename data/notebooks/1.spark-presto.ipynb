{
 "cells": [
  {
   "cell_type": "markdown",
   "metadata": {},
   "source": [
    "## Importando Libs"
   ]
  },
  {
   "cell_type": "code",
   "execution_count": 1,
   "metadata": {},
   "outputs": [],
   "source": [
    "import pyspark.sql.functions as f\n",
    "from pyspark.sql.types import *\n",
    "from pyspark.sql import SparkSession"
   ]
  },
  {
   "cell_type": "markdown",
   "metadata": {},
   "source": [
    "### Criação da Sessão do Spark"
   ]
  },
  {
   "cell_type": "code",
   "execution_count": 2,
   "metadata": {},
   "outputs": [],
   "source": [
    "spark = (\n",
    "    SparkSession\n",
    "    .builder\n",
    "    .appName(\"Igti Hadoop\")\n",
    "    .config(\"spark.serializer\", \"org.apache.spark.serializer.KryoSerializer\")\n",
    "    .getOrCreate()\n",
    ")"
   ]
  },
  {
   "cell_type": "markdown",
   "metadata": {},
   "source": [
    "## Configurações para conexão com o Hive utilizando a Engine do Presto"
   ]
  },
  {
   "cell_type": "code",
   "execution_count": 3,
   "metadata": {},
   "outputs": [],
   "source": [
    "dbtable = \"employees\""
   ]
  },
  {
   "cell_type": "code",
   "execution_count": 4,
   "metadata": {},
   "outputs": [],
   "source": [
    "config = {\n",
    "        \"driver\":\"com.facebook.presto.jdbc.PrestoDriver\",\n",
    "        \"url\":\"jdbc:presto://presto:8080/hive/igti\",\n",
    "        \"user\":\"hive\",\n",
    "        \"dbtable\": dbtable\n",
    "    }"
   ]
  },
  {
   "cell_type": "code",
   "execution_count": 6,
   "metadata": {},
   "outputs": [
    {
     "data": {
      "text/plain": [
       "[('emp_no', 'int'),\n",
       " ('birth_date', 'bigint'),\n",
       " ('first_name', 'string'),\n",
       " ('last_name', 'string'),\n",
       " ('gender', 'string'),\n",
       " ('hire_date', 'bigint')]"
      ]
     },
     "execution_count": 6,
     "metadata": {},
     "output_type": "execute_result"
    }
   ],
   "source": [
    "df = (\n",
    "    spark.read\n",
    "    .format(\"jdbc\")\n",
    "    .options(**config)\n",
    "    .load()\n",
    ")\n",
    "\n",
    "df.dtypes"
   ]
  },
  {
   "cell_type": "code",
   "execution_count": 7,
   "metadata": {},
   "outputs": [
    {
     "name": "stdout",
     "output_type": "stream",
     "text": [
      "+------+-------------+----------+-----------+------+------------+\n",
      "|emp_no|   birth_date|first_name|  last_name|gender|   hire_date|\n",
      "+------+-------------+----------+-----------+------+------------+\n",
      "| 10001|-515376000000|    Georgi|    Facello|     M|520128000000|\n",
      "| 10002|-176169600000|   Bezalel|     Simmel|     F|501379200000|\n",
      "| 10003|-318124800000|     Parto|    Bamford|     M|525571200000|\n",
      "| 10004|-494553600000| Chirstian|    Koblick|     M|533779200000|\n",
      "| 10005|-471657600000|   Kyoichi|   Maliniak|     M|621561600000|\n",
      "| 10006|-527040000000|    Anneke|    Preusig|     F|612748800000|\n",
      "| 10007|-397958400000|   Tzvetan|  Zielinski|     F|603072000000|\n",
      "| 10008|-374457600000|    Saniya|   Kalloufi|     M|779587200000|\n",
      "| 10009|-558662400000|    Sumant|       Peac|     F|477532800000|\n",
      "| 10010|-207878400000| Duangkaew|   Piveteau|     F|619920000000|\n",
      "| 10011|-509673600000|      Mary|      Sluis|     F|632966400000|\n",
      "| 10012|-291686400000|  Patricio|  Bridgland|     M|724636800000|\n",
      "| 10013|-207360000000| Eberhardt|     Terkki|     M|498614400000|\n",
      "| 10014|-438220800000|     Berni|      Genin|     M|542419200000|\n",
      "| 10015|-327283200000|  Guoxiang|  Nooteboom|     M|552182400000|\n",
      "| 10016|-273542400000|  Kazuhito|Cappelletti|     M|791164800000|\n",
      "| 10017|-362620800000| Cristinel|  Bouloucos|     F|744336000000|\n",
      "| 10018|-490320000000|  Kazuhide|       Peha|     F|544406400000|\n",
      "| 10019|-534556800000|   Lillian|    Haddadi|     M|925430400000|\n",
      "| 10020|-537148800000|    Mayuko|    Warwick|     M|664848000000|\n",
      "+------+-------------+----------+-----------+------+------------+\n",
      "only showing top 20 rows\n",
      "\n"
     ]
    }
   ],
   "source": [
    "df.show()"
   ]
  },
  {
   "cell_type": "markdown",
   "metadata": {},
   "source": [
    "## Lendo dados agregados com a Engine do Presto"
   ]
  },
  {
   "cell_type": "code",
   "execution_count": 8,
   "metadata": {},
   "outputs": [],
   "source": [
    "dbtable = \"employees_aggregate\""
   ]
  },
  {
   "cell_type": "code",
   "execution_count": 9,
   "metadata": {},
   "outputs": [],
   "source": [
    "config = {\n",
    "        \"driver\":\"com.facebook.presto.jdbc.PrestoDriver\",\n",
    "        \"url\":\"jdbc:presto://presto:8080/hive/igti\",\n",
    "        \"user\":\"hive\",\n",
    "        \"dbtable\": dbtable\n",
    "    }"
   ]
  },
  {
   "cell_type": "code",
   "execution_count": 10,
   "metadata": {},
   "outputs": [
    {
     "data": {
      "text/plain": [
       "[('gender', 'string'), ('amount', 'bigint')]"
      ]
     },
     "execution_count": 10,
     "metadata": {},
     "output_type": "execute_result"
    }
   ],
   "source": [
    "df_aggregate = (\n",
    "    spark.read\n",
    "    .format(\"jdbc\")\n",
    "    .options(**config)\n",
    "    .load()\n",
    ")\n",
    "\n",
    "df_aggregate.dtypes"
   ]
  },
  {
   "cell_type": "code",
   "execution_count": 11,
   "metadata": {},
   "outputs": [
    {
     "name": "stdout",
     "output_type": "stream",
     "text": [
      "+------+------+\n",
      "|gender|amount|\n",
      "+------+------+\n",
      "|     M|179973|\n",
      "|     F|120051|\n",
      "+------+------+\n",
      "\n"
     ]
    }
   ],
   "source": [
    "df_aggregate.show()"
   ]
  }
 ],
 "metadata": {
  "kernelspec": {
   "display_name": "PySpark",
   "language": "python",
   "name": "pyspark"
  }
 },
 "nbformat": 4,
 "nbformat_minor": 2
}
